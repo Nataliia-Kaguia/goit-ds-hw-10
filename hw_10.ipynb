{
  "nbformat": 4,
  "nbformat_minor": 0,
  "metadata": {
    "colab": {
      "provenance": [],
      "authorship_tag": "ABX9TyM8fZYHhN7SFFH2+SYbDQOI",
      "include_colab_link": true
    },
    "kernelspec": {
      "name": "python3",
      "display_name": "Python 3"
    },
    "language_info": {
      "name": "python"
    }
  },
  "cells": [
    {
      "cell_type": "markdown",
      "metadata": {
        "id": "view-in-github",
        "colab_type": "text"
      },
      "source": [
        "<a href=\"https://colab.research.google.com/github/Nataliia-Kaguia/goit-ds-hw-10/blob/main/hw_10.ipynb\" target=\"_parent\"><img src=\"https://colab.research.google.com/assets/colab-badge.svg\" alt=\"Open In Colab\"/></a>"
      ]
    },
    {
      "cell_type": "code",
      "source": [
        "!pip uninstall -y scikit-surprise\n",
        "!pip install numpy==1.26.4 cython\n",
        "!pip install git+https://github.com/NicolasHug/Surprise.git\n"
      ],
      "metadata": {
        "colab": {
          "base_uri": "https://localhost:8080/"
        },
        "id": "DoBpJLo25N8t",
        "outputId": "51a492b8-ca55-4f2c-8785-7afc7cab9969"
      },
      "execution_count": null,
      "outputs": [
        {
          "output_type": "stream",
          "name": "stdout",
          "text": [
            "\u001b[33mWARNING: Skipping scikit-surprise as it is not installed.\u001b[0m\u001b[33m\n",
            "\u001b[0mRequirement already satisfied: numpy==1.26.4 in /usr/local/lib/python3.12/dist-packages (1.26.4)\n",
            "Requirement already satisfied: cython in /usr/local/lib/python3.12/dist-packages (3.0.12)\n",
            "Collecting git+https://github.com/NicolasHug/Surprise.git\n",
            "  Cloning https://github.com/NicolasHug/Surprise.git to /tmp/pip-req-build-psuymg1o\n",
            "  Running command git clone --filter=blob:none --quiet https://github.com/NicolasHug/Surprise.git /tmp/pip-req-build-psuymg1o\n",
            "  Resolved https://github.com/NicolasHug/Surprise.git to commit 2381fb11d0c4bf917cc4b9126f205d0013649966\n",
            "  Installing build dependencies ... \u001b[?25l\u001b[?25hdone\n",
            "  Getting requirements to build wheel ... \u001b[?25l\u001b[?25hdone\n",
            "  Preparing metadata (pyproject.toml) ... \u001b[?25l\u001b[?25hdone\n",
            "Requirement already satisfied: joblib>=1.2.0 in /usr/local/lib/python3.12/dist-packages (from scikit-surprise==1.1.4) (1.5.1)\n",
            "Requirement already satisfied: numpy>=1.19.5 in /usr/local/lib/python3.12/dist-packages (from scikit-surprise==1.1.4) (1.26.4)\n",
            "Requirement already satisfied: scipy>=1.6.0 in /usr/local/lib/python3.12/dist-packages (from scikit-surprise==1.1.4) (1.16.1)\n",
            "Building wheels for collected packages: scikit-surprise\n",
            "  Building wheel for scikit-surprise (pyproject.toml) ... \u001b[?25l\u001b[?25hdone\n",
            "  Created wheel for scikit-surprise: filename=scikit_surprise-1.1.4-cp312-cp312-linux_x86_64.whl size=2610171 sha256=5fa8c34a74ee4057de42fcf7bb7ac0c039cbfe2a4883db6d066b15a624d360b6\n",
            "  Stored in directory: /tmp/pip-ephem-wheel-cache-sju9z7v3/wheels/81/ef/f8/c6e173e03432de2eeaa047537fada2fa9b7cf37559598634f0\n",
            "Successfully built scikit-surprise\n",
            "Installing collected packages: scikit-surprise\n",
            "Successfully installed scikit-surprise-1.1.4\n"
          ]
        }
      ]
    },
    {
      "cell_type": "code",
      "execution_count": null,
      "metadata": {
        "id": "mUCO7lSmH_Lr",
        "colab": {
          "base_uri": "https://localhost:8080/"
        },
        "outputId": "4921ccfe-f115-4ec8-ed4c-f77010bb2a8b"
      },
      "outputs": [
        {
          "output_type": "stream",
          "name": "stdout",
          "text": [
            "Dataset ml-100k could not be found. Do you want to download it? [Y/n] y\n",
            "Trying to download dataset from https://files.grouplens.org/datasets/movielens/ml-100k.zip...\n",
            "Done! Dataset ml-100k has been saved to /root/.surprise_data/ml-100k\n"
          ]
        }
      ],
      "source": [
        "from surprise import Dataset, SVD, SVDpp, NMF\n",
        "from surprise.model_selection import cross_validate, GridSearchCV\n",
        "\n",
        "# ===============================\n",
        "# 1. Завантажуємо дані MovieLens 100k\n",
        "# ===============================\n",
        "data = Dataset.load_builtin(\"ml-100k\")\n"
      ]
    },
    {
      "cell_type": "code",
      "source": [
        "# ===============================\n",
        "# 2. GridSearchCV для підбору параметрів SVD\n",
        "# ===============================\n",
        "param_grid = {\n",
        "    \"n_epochs\": [5, 10, 20],\n",
        "    \"lr_all\": [0.002, 0.005],\n",
        "    \"reg_all\": [0.2, 0.4]\n",
        "}\n",
        "\n",
        "gs = GridSearchCV(SVD, param_grid, measures=[\"rmse\", \"mae\"], cv=3, n_jobs=-1)\n",
        "gs.fit(data)\n",
        "\n",
        "print(\"Найкращі параметри для SVD:\", gs.best_params[\"rmse\"])\n",
        "print(\"Найкраща оцінка RMSE:\", gs.best_score[\"rmse\"])\n"
      ],
      "metadata": {
        "colab": {
          "base_uri": "https://localhost:8080/"
        },
        "id": "P4Hd0rF2Ptpd",
        "outputId": "7820654a-0d9b-49cc-e577-a999127602a8"
      },
      "execution_count": null,
      "outputs": [
        {
          "output_type": "stream",
          "name": "stdout",
          "text": [
            "Найкращі параметри для SVD: {'n_epochs': 20, 'lr_all': 0.005, 'reg_all': 0.2}\n",
            "Найкраща оцінка RMSE: 0.9493295804791196\n"
          ]
        }
      ]
    },
    {
      "cell_type": "code",
      "source": [
        "# ===============================\n",
        "# 3. Порівняння алгоритмів\n",
        "# ===============================\n",
        "algorithms = {\n",
        "    \"SVD (оптимізований)\": SVD(**gs.best_params[\"rmse\"]),\n",
        "    \"SVD++\": SVDpp(),\n",
        "    \"NMF\": NMF()\n",
        "}\n",
        "\n",
        "results = {}\n",
        "for name, algo in algorithms.items():\n",
        "    cv_results = cross_validate(algo, data, measures=[\"rmse\", \"mae\"], cv=3, verbose=False)\n",
        "    results[name] = {\n",
        "        \"RMSE\": cv_results[\"test_rmse\"].mean(),\n",
        "        \"MAE\": cv_results[\"test_mae\"].mean()\n",
        "    }\n",
        "\n",
        "# Вивід результатів\n",
        "print(\"\\nПорівняння алгоритмів:\")\n",
        "for name, metrics in results.items():\n",
        "    print(f\"{name}: RMSE={metrics['RMSE']:.4f}, MAE={metrics['MAE']:.4f}\")\n"
      ],
      "metadata": {
        "colab": {
          "base_uri": "https://localhost:8080/"
        },
        "id": "lLFyWySWQE49",
        "outputId": "096ba2a1-4bcd-40c7-89bd-72c27ac0e3d0"
      },
      "execution_count": null,
      "outputs": [
        {
          "output_type": "stream",
          "name": "stdout",
          "text": [
            "\n",
            "Порівняння алгоритмів:\n",
            "SVD (оптимізований): RMSE=0.9492, MAE=0.7558\n",
            "SVD++: RMSE=0.9269, MAE=0.7282\n",
            "NMF: RMSE=0.9785, MAE=0.7698\n"
          ]
        }
      ]
    },
    {
      "cell_type": "markdown",
      "source": [
        "Завдання з зірочкою"
      ],
      "metadata": {
        "id": "C3GVTEFosE4r"
      }
    },
    {
      "cell_type": "code",
      "source": [
        "import numpy as np\n",
        "import scipy.io\n",
        "import requests\n",
        "\n",
        "# === Завантажуємо .mat файл з GitHub (матриця рейтингів) ===\n",
        "url_mat = \"https://raw.githubusercontent.com/Nataliia-Kaguia/goit-ds-hw-10/main/movies.mat\"\n",
        "r = requests.get(url_mat)\n",
        "with open(\"movies.mat\", \"wb\") as f:\n",
        "    f.write(r.content)\n",
        "\n",
        "data = scipy.io.loadmat(\"movies.mat\")\n",
        "Y = data[\"Y\"]   # матриця рейтингів (num_movies x num_users)\n",
        "R = data[\"R\"]   # індикатор: 1 якщо є рейтинг, 0 якщо немає\n",
        "\n",
        "print(\"Форма Y (ratings):\", Y.shape)\n",
        "print(\"Форма R (indicator):\", R.shape)\n",
        "\n",
        "# === Завантажуємо movie_ids.txt ===\n",
        "url_txt = \"https://raw.githubusercontent.com/Nataliia-Kaguia/goit-ds-hw-10/main/movie_ids.txt\"\n",
        "r = requests.get(url_txt)\n",
        "movie_list = r.text.split(\"\\n\")\n",
        "\n",
        "print(\"Кількість фільмів:\", len(movie_list))\n",
        "print(\"Перші 10 назв:\", movie_list[:10])\n"
      ],
      "metadata": {
        "colab": {
          "base_uri": "https://localhost:8080/"
        },
        "id": "pGvmB-8XsFqP",
        "outputId": "bc9d548a-b373-49c8-f98f-9861f3228982"
      },
      "execution_count": null,
      "outputs": [
        {
          "output_type": "stream",
          "name": "stdout",
          "text": [
            "Форма Y (ratings): (1682, 943)\n",
            "Форма R (indicator): (1682, 943)\n",
            "Кількість фільмів: 1683\n",
            "Перші 10 назв: ['1 Toy Story (1995)', '2 GoldenEye (1995)', '3 Four Rooms (1995)', '4 Get Shorty (1995)', '5 Copycat (1995)', '6 Shanghai Triad (Yao a yao yao dao waipo qiao) (1995)', '7 Twelve Monkeys (1995)', '8 Babe (1995)', '9 Dead Man Walking (1995)', '10 Richard III (1995)']\n"
          ]
        }
      ]
    },
    {
      "cell_type": "code",
      "source": [
        "import numpy as np\n",
        "import scipy.io\n",
        "import requests\n",
        "\n",
        "# === Крок 1. Завантаження даних ===\n",
        "# Завантажуємо .mat (рейтинги)\n",
        "url_mat = \"https://raw.githubusercontent.com/Nataliia-Kaguia/goit-ds-hw-10/main/movies.mat\"\n",
        "r = requests.get(url_mat)\n",
        "with open(\"movies.mat\", \"wb\") as f:\n",
        "    f.write(r.content)\n",
        "\n",
        "data = scipy.io.loadmat(\"movies.mat\")\n",
        "Y = data[\"Y\"]   # матриця рейтингів (num_movies x num_users)\n",
        "R = data[\"R\"]   # індикатор: 1 якщо є рейтинг, 0 якщо немає\n",
        "\n",
        "num_movies, num_users = Y.shape\n",
        "print(\"Форма Y:\", Y.shape, \"Форма R:\", R.shape)\n"
      ],
      "metadata": {
        "colab": {
          "base_uri": "https://localhost:8080/"
        },
        "id": "fcSy4aOwsLeE",
        "outputId": "20cd1709-eec7-411a-b0da-2b2e2047ee05"
      },
      "execution_count": null,
      "outputs": [
        {
          "output_type": "stream",
          "name": "stdout",
          "text": [
            "Форма Y: (1682, 943) Форма R: (1682, 943)\n"
          ]
        }
      ]
    },
    {
      "cell_type": "code",
      "source": [
        "# Завантажуємо список фільмів\n",
        "url_txt = \"https://raw.githubusercontent.com/Nataliia-Kaguia/goit-ds-hw-10/main/movie_ids.txt\"\n",
        "r = requests.get(url_txt)\n",
        "movie_list = r.text.split(\"\\n\")\n",
        "print(\"Кількість фільмів:\", len(movie_list))\n",
        "print(\"Перші 5:\", movie_list[:5])\n"
      ],
      "metadata": {
        "colab": {
          "base_uri": "https://localhost:8080/"
        },
        "id": "HfuBg_mysaSH",
        "outputId": "25e00a51-3638-4844-8ef3-523f2032eb62"
      },
      "execution_count": null,
      "outputs": [
        {
          "output_type": "stream",
          "name": "stdout",
          "text": [
            "Кількість фільмів: 1683\n",
            "Перші 5: ['1 Toy Story (1995)', '2 GoldenEye (1995)', '3 Four Rooms (1995)', '4 Get Shorty (1995)', '5 Copycat (1995)']\n"
          ]
        }
      ]
    },
    {
      "cell_type": "code",
      "source": [
        "# === Крок 2. Матрична факторизація ===\n",
        "def matrix_factorization(Y, R, k=10, alpha=0.001, reg=0.02, epochs=50):\n",
        "    \"\"\"\n",
        "    Y - матриця рейтингів (num_movies x num_users)\n",
        "    R - індикатор (1 якщо є рейтинг, 0 якщо немає)\n",
        "    k - кількість латентних факторів\n",
        "    alpha - learning rate\n",
        "    reg - коефіцієнт регуляризації\n",
        "    epochs - кількість епох\n",
        "    \"\"\"\n",
        "\n",
        "    num_movies, num_users = Y.shape\n",
        "\n",
        "    # Ініціалізація матриць\n",
        "    U = np.random.normal(scale=1./k, size=(num_users, k))\n",
        "    V = np.random.normal(scale=1./k, size=(num_movies, k))\n",
        "\n",
        "    # Історія втрат\n",
        "    history = []\n",
        "\n",
        "    for epoch in range(epochs):\n",
        "        # Обновлюємо U і V\n",
        "        for i in range(num_movies):\n",
        "            for j in range(num_users):\n",
        "                if R[i, j] == 1:  # тільки де є рейтинг\n",
        "                    eij = Y[i, j] - np.dot(U[j, :], V[i, :].T)\n",
        "\n",
        "                    # Градієнтний спуск\n",
        "                    U[j, :] += alpha * (eij * V[i, :] - reg * U[j, :])\n",
        "                    V[i, :] += alpha * (eij * U[j, :] - reg * V[i, :])\n",
        "\n",
        "        # Обчислюємо помилку після кожної епохи\n",
        "        error = 0\n",
        "        for i in range(num_movies):\n",
        "            for j in range(num_users):\n",
        "                if R[i, j] == 1:\n",
        "                    error += (Y[i, j] - np.dot(U[j, :], V[i, :].T)) ** 2\n",
        "                    error += reg * (np.linalg.norm(U[j, :]) + np.linalg.norm(V[i, :]))\n",
        "        history.append(error)\n",
        "\n",
        "        if epoch % 10 == 0:\n",
        "            print(f\"Епоха {epoch}/{epochs}, помилка: {error:.4f}\")\n",
        "\n",
        "    return U, V, history\n"
      ],
      "metadata": {
        "id": "YFl53IUBscEh"
      },
      "execution_count": null,
      "outputs": []
    },
    {
      "cell_type": "code",
      "source": [
        "# === Крок 3. Навчання ===\n",
        "U, V, history = matrix_factorization(Y, R, k=10, alpha=0.002, reg=0.02, epochs=50)\n",
        "\n",
        "# === Крок 4. Робимо передбачення ===\n",
        "pred_matrix = np.dot(U, V.T)  # num_users x num_movies\n",
        "\n",
        "user_id = 0  # подивимось рекомендації для користувача №1\n",
        "top_movies = np.argsort(-pred_matrix[user_id, :])[:10]\n",
        "\n",
        "print(\"\\nРекомендовані фільми для користувача 1:\")\n",
        "for idx in top_movies:\n",
        "    print(movie_list[idx])\n"
      ],
      "metadata": {
        "colab": {
          "base_uri": "https://localhost:8080/"
        },
        "id": "l0HGHvNcsuuO",
        "outputId": "c9e594cd-38b6-44ad-cde5-4d2a3e508dc7"
      },
      "execution_count": null,
      "outputs": [
        {
          "output_type": "stream",
          "name": "stdout",
          "text": [
            "Епоха 0/50, помилка: 1371517.5475\n",
            "Епоха 10/50, помилка: 117473.9880\n",
            "Епоха 20/50, помилка: 96322.4760\n",
            "Епоха 30/50, помилка: 90384.6726\n",
            "Епоха 40/50, помилка: 85606.8080\n",
            "\n",
            "Рекомендовані фільми для користувача 1:\n",
            "408 Close Shave, A (1995)\n",
            "56 Pulp Fiction (1994)\n",
            "12 Usual Suspects, The (1995)\n",
            "127 Godfather, The (1972)\n",
            "169 Wrong Trousers, The (1993)\n",
            "511 Lawrence of Arabia (1962)\n",
            "357 One Flew Over the Cuckoo's Nest (1975)\n",
            "474 Dr. Strangelove or: How I Learned to Stop Worrying and Love the Bomb (1963)\n",
            "513 Third Man, The (1949)\n",
            "134 Citizen Kane (1941)\n"
          ]
        }
      ]
    }
  ]
}